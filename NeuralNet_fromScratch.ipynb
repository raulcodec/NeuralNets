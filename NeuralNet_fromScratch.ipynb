{
  "nbformat": 4,
  "nbformat_minor": 0,
  "metadata": {
    "colab": {
      "name": "NeuralNet-fromScratch.ipynb",
      "provenance": [],
      "collapsed_sections": [],
      "authorship_tag": "ABX9TyO3ckYRDxVQ4KKJRN9PVCqo",
      "include_colab_link": true
    },
    "kernelspec": {
      "name": "python3",
      "display_name": "Python 3"
    }
  },
  "cells": [
    {
      "cell_type": "markdown",
      "metadata": {
        "id": "view-in-github",
        "colab_type": "text"
      },
      "source": [
        "<a href=\"https://colab.research.google.com/github/raulcodec/NeuralNets/blob/master/NeuralNet_fromScratch.ipynb\" target=\"_parent\"><img src=\"https://colab.research.google.com/assets/colab-badge.svg\" alt=\"Open In Colab\"/></a>"
      ]
    },
    {
      "cell_type": "markdown",
      "metadata": {
        "id": "7gPwoRiLzj8q",
        "colab_type": "text"
      },
      "source": [
        "**Two Layer Neural Net in Numpy**"
      ]
    },
    {
      "cell_type": "code",
      "metadata": {
        "id": "kfMGzX9cxTNp",
        "colab_type": "code",
        "colab": {}
      },
      "source": [
        "import numpy as np"
      ],
      "execution_count": 5,
      "outputs": []
    },
    {
      "cell_type": "code",
      "metadata": {
        "id": "skrU8C-LzcPl",
        "colab_type": "code",
        "colab": {}
      },
      "source": [
        "# sigmoid function\n",
        "#Formulae for Sigmoid is 1/1+e^-x\n",
        "\n",
        "def nonlin(x,deriv=False):\n",
        "  if(deriv==True):\n",
        "    return x*(1-x)\n",
        "  return 1/(1+np.exp(-x))"
      ],
      "execution_count": 6,
      "outputs": []
    },
    {
      "cell_type": "markdown",
      "metadata": {
        "id": "BXYy79CN2NSB",
        "colab_type": "text"
      },
      "source": [
        "Data\n",
        "```\n",
        "  Inputs\t  Output\n",
        "0\t0\t1\t0\n",
        "1\t1\t1\t1\n",
        "1\t0\t1\t1\n",
        "0\t1\t1\t0\n",
        "```\n",
        "\n"
      ]
    },
    {
      "cell_type": "code",
      "metadata": {
        "id": "xTSXsgzs0Ej5",
        "colab_type": "code",
        "colab": {
          "base_uri": "https://localhost:8080/",
          "height": 33
        },
        "outputId": "a83d55c7-f9a5-4da5-e203-1cbc21ee8540"
      },
      "source": [
        "# input dataset\n",
        "X = np.array([  [0,0,1],\n",
        "                [0,1,1],\n",
        "                [1,0,1],\n",
        "                [1,1,1] ])\n",
        "X.shape"
      ],
      "execution_count": 7,
      "outputs": [
        {
          "output_type": "execute_result",
          "data": {
            "text/plain": [
              "(4, 3)"
            ]
          },
          "metadata": {
            "tags": []
          },
          "execution_count": 7
        }
      ]
    },
    {
      "cell_type": "code",
      "metadata": {
        "id": "_ek_hQ6N2FUL",
        "colab_type": "code",
        "colab": {
          "base_uri": "https://localhost:8080/",
          "height": 33
        },
        "outputId": "ef85a1fd-d730-457d-f169-d5f167a9df41"
      },
      "source": [
        "# output dataset            \n",
        "y = np.array([[0,0,1,1]]).T\n",
        "y.shape"
      ],
      "execution_count": 8,
      "outputs": [
        {
          "output_type": "execute_result",
          "data": {
            "text/plain": [
              "(4, 1)"
            ]
          },
          "metadata": {
            "tags": []
          },
          "execution_count": 8
        }
      ]
    },
    {
      "cell_type": "markdown",
      "metadata": {
        "id": "w-q9g9Ri3FAW",
        "colab_type": "text"
      },
      "source": [
        "**Synopsis of the Neural Net framework**\n",
        "\n",
        "*   Thus, we have 3 features in the data (with 4 records) and requires 3 Nodes as Input Layer\n",
        "*   There will be 3 Synapses from these Nodes,connecting edges, that will be carrying weights and joining to a function Sigmoid(also termed Activation Function)\n",
        "*   From the function there is a connection to Output Layer which will be a binary classification of data based on INput Layers  "
      ]
    },
    {
      "cell_type": "code",
      "metadata": {
        "id": "CaFytXyR2tFk",
        "colab_type": "code",
        "colab": {
          "base_uri": "https://localhost:8080/",
          "height": 67
        },
        "outputId": "f2e012aa-a23e-489c-e82b-0f31c8af385a"
      },
      "source": [
        "# seed random numbers to make calculation deterministic \n",
        "np.random.seed(42)\n",
        "\n",
        "# initialize weights randomly with mean 0\n",
        "#np.random.random has a mean of 0.5 as the values ranges from (0,1). Thus *2 and subtracting 1 gives mean 0\n",
        "syn0 = 2*np.random.random((3,1)) - 1\n",
        "syn0"
      ],
      "execution_count": 9,
      "outputs": [
        {
          "output_type": "execute_result",
          "data": {
            "text/plain": [
              "array([[-0.25091976],\n",
              "       [ 0.90142861],\n",
              "       [ 0.46398788]])"
            ]
          },
          "metadata": {
            "tags": []
          },
          "execution_count": 9
        }
      ]
    },
    {
      "cell_type": "code",
      "metadata": {
        "id": "V4HZN46h25gx",
        "colab_type": "code",
        "colab": {
          "base_uri": "https://localhost:8080/",
          "height": 100
        },
        "outputId": "9ec171e5-821c-4f7f-a3a9-ab90f082fcbe"
      },
      "source": [
        "for iter in range(1000):\n",
        "\n",
        "    # forward propagation\n",
        "    l0 = X\n",
        "    #np.dot multiplies the input matrix 4*3 with weights 3*1 to produce resultant 4*1 matrix\n",
        "    # this dot product resultant matrix is passed through a \"non-linear\" function and sigmoid \n",
        "    # produces the output values between 0 & 1 which are probabilities \n",
        "    l1 = nonlin(np.dot(l0,syn0))\n",
        "\n",
        "    # how much did we miss?\n",
        "    l1_error = y - l1\n",
        "\n",
        "    #Backpropagation\n",
        "    # Compute gradients for all resultant values from Sigmoid function to assess the direction of shift \n",
        "    # of probability required : nonlin(l1,True)\n",
        "    # That gradient is multiplied by error term ( l1_error) to reduce the gradient impact in case of high confidence predictions\n",
        "    l1_delta = l1_error * nonlin(l1,True)\n",
        "\n",
        "    # Update weights for next iteration , full batch run\n",
        "    # L0.T makes it 3*4 matrix and multiplied by l1_delta 4*1 matrix.Results in 3*1 synapse\n",
        "    syn0 += np.dot(l0.T,l1_delta)\n",
        "\n",
        "print(\"Probabilities After Training:\")\n",
        "print (l1)"
      ],
      "execution_count": 10,
      "outputs": [
        {
          "output_type": "stream",
          "text": [
            "Output After Training:\n",
            "[[0.03190418]\n",
            " [0.02579624]\n",
            " [0.97905223]\n",
            " [0.97406172]]\n"
          ],
          "name": "stdout"
        }
      ]
    }
  ]
}